{
  "nbformat": 4,
  "nbformat_minor": 0,
  "metadata": {
    "colab": {
      "provenance": [],
      "authorship_tag": "ABX9TyO6y0RomwbY4/5zoTxiWhfV",
      "include_colab_link": true
    },
    "kernelspec": {
      "name": "python3",
      "display_name": "Python 3"
    },
    "language_info": {
      "name": "python"
    }
  },
  "cells": [
    {
      "cell_type": "markdown",
      "metadata": {
        "id": "view-in-github",
        "colab_type": "text"
      },
      "source": [
        "<a href=\"https://colab.research.google.com/github/0NightRunner0/Phyton/blob/main/Estruturas_de_Repeti%C3%A7%C3%A3o.ipynb\" target=\"_parent\"><img src=\"https://colab.research.google.com/assets/colab-badge.svg\" alt=\"Open In Colab\"/></a>"
      ]
    },
    {
      "cell_type": "code",
      "execution_count": 1,
      "metadata": {
        "colab": {
          "base_uri": "https://localhost:8080/"
        },
        "id": "9kTwHZpqDBL9",
        "outputId": "18ef8286-3550-4727-d43f-0f1c8e79bbb5"
      },
      "outputs": [
        {
          "output_type": "stream",
          "name": "stdout",
          "text": [
            "janeiro: R$1200\n",
            "fevereiro: R$1200\n",
            "mmarço: R$1200\n",
            "abril: R$1200\n",
            "maio: R$1200\n",
            "junho: R$1200\n"
          ]
        }
      ],
      "source": [
        "meses = ['janeiro', 'fevereiro', 'mmarço', 'abril', 'maio', 'junho']\n",
        "gasto_fixo = 1200\n",
        "\n",
        "for mes in meses:\n",
        "  print(f'{mes}: R${gasto_fixo}')"
      ]
    },
    {
      "cell_type": "code",
      "source": [
        "tentativa = 0\n",
        "senha_correta = 'admin123'\n",
        "\n",
        "while tentativa < 3:\n",
        "  senha = input('Digite a senha: ')\n",
        "  if senha == senha_correta:\n",
        "    print('Acesso permitido')\n",
        "    break\n",
        "  else:\n",
        "    tentativa += 1\n",
        "    print(\"Acesso negado\")\n",
        "if tentativa == 3:\n",
        "  print('Limite de tentativas excedido')\n"
      ],
      "metadata": {
        "colab": {
          "base_uri": "https://localhost:8080/"
        },
        "id": "PIse41tGFrWK",
        "outputId": "d634ddf6-ac57-4c5e-9a43-8c4fc578572a"
      },
      "execution_count": 6,
      "outputs": [
        {
          "output_type": "stream",
          "name": "stdout",
          "text": [
            "Digite a senha: admin123\n",
            "Acesso permitido\n"
          ]
        }
      ]
    },
    {
      "cell_type": "code",
      "source": [
        "mes = 1\n",
        "valor = 1000\n",
        "\n",
        "while mes <=12:\n",
        "  print(f'Mês {mes}: R${valor:.2f}')\n",
        "  mes += 1"
      ],
      "metadata": {
        "colab": {
          "base_uri": "https://localhost:8080/"
        },
        "id": "orOJKQiVRbXO",
        "outputId": "efe61a6c-98a4-452c-dfd7-6d1e8773c3b1"
      },
      "execution_count": 8,
      "outputs": [
        {
          "output_type": "stream",
          "name": "stdout",
          "text": [
            "Mês 1: R$1000.00\n",
            "Mês 2: R$1000.00\n",
            "Mês 3: R$1000.00\n",
            "Mês 4: R$1000.00\n",
            "Mês 5: R$1000.00\n",
            "Mês 6: R$1000.00\n",
            "Mês 7: R$1000.00\n",
            "Mês 8: R$1000.00\n",
            "Mês 9: R$1000.00\n",
            "Mês 10: R$1000.00\n",
            "Mês 11: R$1000.00\n",
            "Mês 12: R$1000.00\n"
          ]
        }
      ]
    },
    {
      "cell_type": "code",
      "source": [
        "soma = 0\n",
        "contador = 0\n",
        "\n",
        "while contador <5:\n",
        "  nota = float(input('Digite a nota: '))\n",
        "  soma += nota\n",
        "  contador += 1\n",
        "\n",
        "media = soma / 5\n",
        "print(f'A média das notas é: {media:.1f}')"
      ],
      "metadata": {
        "colab": {
          "base_uri": "https://localhost:8080/"
        },
        "id": "ODXgmPpmTyJh",
        "outputId": "a04b65b3-d60a-463a-927b-e1fcd1b50a3c"
      },
      "execution_count": 14,
      "outputs": [
        {
          "output_type": "stream",
          "name": "stdout",
          "text": [
            "Digite a nota: 5\n",
            "Digite a nota: 2.5\n",
            "Digite a nota: 0\n",
            "Digite a nota: 7\n",
            "Digite a nota: 1\n",
            "A média das notas é: 3.1\n"
          ]
        }
      ]
    },
    {
      "cell_type": "code",
      "source": [
        "cursos = ['pacote ofice', 'desenvolvimento de sistemas', 'power bi', 'python']\n",
        "for curso in cursos:\n",
        "  print(f'cursos concluidos: {curso}')"
      ],
      "metadata": {
        "colab": {
          "base_uri": "https://localhost:8080/"
        },
        "id": "uDzTr98kgBhq",
        "outputId": "4c291c3c-b035-472c-85e8-68a2f727faa8"
      },
      "execution_count": 21,
      "outputs": [
        {
          "output_type": "stream",
          "name": "stdout",
          "text": [
            "cursos concluidos: pacote ofice\n",
            "cursos concluidos: desenvolvimento de sistemas\n",
            "cursos concluidos: power bi\n",
            "cursos concluidos: python\n"
          ]
        }
      ]
    },
    {
      "cell_type": "code",
      "source": [
        "print(\"25\")\n",
        "print(\"24\")\n",
        "print(\"23\")\n",
        "print(\"22\")\n",
        "print(\"21\")\n",
        "print(\"20\")\n",
        "print(\"19\")\n",
        "print(\"18\")\n",
        "print(\"17\")\n",
        "print(\"16\")\n",
        "print(\"15\")\n",
        "print(\"14\")\n",
        "print(\"13\")\n",
        "print(\"12\")\n",
        "print(\"11\")\n",
        "print(\"10\")\n",
        "print(\"9\")\n",
        "print(\"8\")\n",
        "print(\"7\")\n",
        "print(\"6\")\n",
        "print(\"5\")\n",
        "print(\"4\")\n",
        "print(\"3\")\n",
        "print(\"2\")\n",
        "print(\"1\")\n"
      ],
      "metadata": {
        "colab": {
          "base_uri": "https://localhost:8080/"
        },
        "id": "NvuYWCXrl4Cs",
        "outputId": "1da96cc8-236c-4f28-fce1-a38ff1bb6313"
      },
      "execution_count": 27,
      "outputs": [
        {
          "output_type": "stream",
          "name": "stdout",
          "text": [
            "25\n",
            "24\n",
            "23\n",
            "22\n",
            "21\n",
            "20\n",
            "19\n",
            "18\n",
            "17\n",
            "16\n",
            "15\n",
            "14\n",
            "13\n",
            "12\n",
            "11\n",
            "10\n",
            "9\n",
            "8\n",
            "7\n",
            "6\n",
            "5\n",
            "4\n",
            "3\n",
            "2\n",
            "1\n"
          ]
        }
      ]
    },
    {
      "cell_type": "code",
      "source": [
        "contador = 25\n",
        "while contador >= 1:\n",
        "  contador -= 1\n",
        "  print(f\"Tempo restante: {contador}\")"
      ],
      "metadata": {
        "colab": {
          "base_uri": "https://localhost:8080/"
        },
        "id": "8lpWc-nWndYN",
        "outputId": "95046270-7459-48e8-853e-26b6fafb4841"
      },
      "execution_count": 26,
      "outputs": [
        {
          "output_type": "stream",
          "name": "stdout",
          "text": [
            "Tempo restante: 24\n",
            "Tempo restante: 23\n",
            "Tempo restante: 22\n",
            "Tempo restante: 21\n",
            "Tempo restante: 20\n",
            "Tempo restante: 19\n",
            "Tempo restante: 18\n",
            "Tempo restante: 17\n",
            "Tempo restante: 16\n",
            "Tempo restante: 15\n",
            "Tempo restante: 14\n",
            "Tempo restante: 13\n",
            "Tempo restante: 12\n",
            "Tempo restante: 11\n",
            "Tempo restante: 10\n",
            "Tempo restante: 9\n",
            "Tempo restante: 8\n",
            "Tempo restante: 7\n",
            "Tempo restante: 6\n",
            "Tempo restante: 5\n",
            "Tempo restante: 4\n",
            "Tempo restante: 3\n",
            "Tempo restante: 2\n",
            "Tempo restante: 1\n",
            "Tempo restante: 0\n"
          ]
        }
      ]
    },
    {
      "cell_type": "code",
      "source": [
        "boletos = ['Boleto 1', 'Boleto 2', 'Boleto 3', 'Boleto 4']\n",
        "for boletos in boleto:\n",
        " print(f'Boletos: {boletos} emitido')"
      ],
      "metadata": {
        "colab": {
          "base_uri": "https://localhost:8080/"
        },
        "id": "pl_-WPFXqdYV",
        "outputId": "a027fc08-9091-4e4f-eb15-dd3cb2b28d93"
      },
      "execution_count": 33,
      "outputs": [
        {
          "output_type": "stream",
          "name": "stdout",
          "text": [
            "Boletos: Boleto 1 emitido\n",
            "Boletos: Boleto 2 emitido\n",
            "Boletos: Boleto 3 emitido\n",
            "Boletos: Boleto 4 emitido\n"
          ]
        }
      ]
    },
    {
      "cell_type": "code",
      "source": [
        "for i in range(1, 5):\n",
        "  print(f'Emitido o boleto {i}/4 para o cliente')"
      ],
      "metadata": {
        "colab": {
          "base_uri": "https://localhost:8080/"
        },
        "id": "OtzkPjFPsUvl",
        "outputId": "7af2932b-f023-4393-b954-7231cb26af11"
      },
      "execution_count": 35,
      "outputs": [
        {
          "output_type": "stream",
          "name": "stdout",
          "text": [
            "Emitido o boleto 1/4 para o cliente\n",
            "Emitido o boleto 2/4 para o cliente\n",
            "Emitido o boleto 3/4 para o cliente\n",
            "Emitido o boleto 4/4 para o cliente\n"
          ]
        }
      ]
    }
  ]
}