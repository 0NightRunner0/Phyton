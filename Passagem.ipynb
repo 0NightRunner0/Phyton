{
  "nbformat": 4,
  "nbformat_minor": 0,
  "metadata": {
    "colab": {
      "provenance": [],
      "authorship_tag": "ABX9TyNC6lXQtA1PpmcC23FaFFLw",
      "include_colab_link": true
    },
    "kernelspec": {
      "name": "python3",
      "display_name": "Python 3"
    },
    "language_info": {
      "name": "python"
    }
  },
  "cells": [
    {
      "cell_type": "markdown",
      "metadata": {
        "id": "view-in-github",
        "colab_type": "text"
      },
      "source": [
        "<a href=\"https://colab.research.google.com/github/0NightRunner0/Python/blob/main/Passagem.ipynb\" target=\"_parent\"><img src=\"https://colab.research.google.com/assets/colab-badge.svg\" alt=\"Open In Colab\"/></a>"
      ]
    },
    {
      "cell_type": "code",
      "execution_count": 8,
      "metadata": {
        "colab": {
          "base_uri": "https://localhost:8080/"
        },
        "id": "Z5M8r99ymiOn",
        "outputId": "22da4888-b9cd-4447-f15f-8276bdde05cd"
      },
      "outputs": [
        {
          "output_type": "stream",
          "name": "stdout",
          "text": [
            "Digite seu nome: gdsgsd\n",
            "Digite a distacia que deseja percorrer em KM's: 500\n",
            "Olá gdsgsd sua viagem custará 225.0 reais\n"
          ]
        }
      ],
      "source": [
        "nome = str(input(\"Digite seu nome: \"))\n",
        "distancia = float(input(\"Digite a distacia que deseja percorrer em KM's: \"))\n",
        "total1 = distancia * 0.50\n",
        "total2 = distancia * 0.45\n",
        "\n",
        "if distancia <= 200:\n",
        "  print(f\"Sua viagem custará {total1} reais\")\n",
        "else:\n",
        "  print(f\"Olá {nome} sua viagem custará {total2} reais\")"
      ]
    }
  ]
}