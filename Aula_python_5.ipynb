{
  "nbformat": 4,
  "nbformat_minor": 0,
  "metadata": {
    "colab": {
      "provenance": [],
      "authorship_tag": "ABX9TyOY1Eqke6pTRgd/CKuMNzSU",
      "include_colab_link": true
    },
    "kernelspec": {
      "name": "python3",
      "display_name": "Python 3"
    },
    "language_info": {
      "name": "python"
    }
  },
  "cells": [
    {
      "cell_type": "markdown",
      "metadata": {
        "id": "view-in-github",
        "colab_type": "text"
      },
      "source": [
        "<a href=\"https://colab.research.google.com/github/0NightRunner0/Phyton/blob/main/Aula_python_5.ipynb\" target=\"_parent\"><img src=\"https://colab.research.google.com/assets/colab-badge.svg\" alt=\"Open In Colab\"/></a>"
      ]
    },
    {
      "cell_type": "code",
      "execution_count": 2,
      "metadata": {
        "colab": {
          "base_uri": "https://localhost:8080/"
        },
        "id": "9e9Ug5swsXax",
        "outputId": "509572f3-1206-4e6e-e176-c1af4dec075d"
      },
      "outputs": [
        {
          "output_type": "stream",
          "name": "stdout",
          "text": [
            "Digite um numero: \n",
            "Digite o 1° numero: 5\n",
            "Digite o 2° numero: 8\n",
            "Digite o 3° numero: 3\n",
            "Digite o 4° numero: 6\n",
            "Digite o 5° numero: 2\n",
            "A lista é:  [5, 8, 3, 6, 2]\n"
          ]
        }
      ],
      "source": [
        "numeros = []\n",
        "print(\"Digite um numero: \")\n",
        "numeros.append(int(input(\"Digite o 1° numero: \")))\n",
        "numeros.append(int(input(\"Digite o 2° numero: \")))\n",
        "numeros.append(int(input(\"Digite o 3° numero: \")))\n",
        "numeros.append(int(input(\"Digite o 4° numero: \")))\n",
        "numeros.append(int(input(\"Digite o 5° numero: \")))\n",
        "print(\"A lista é: \", numeros)"
      ]
    },
    {
      "cell_type": "code",
      "source": [
        "nomes = (\"Alice\",\"Bob\",\"Carol\",\"David\")\n",
        "print(\"O terceiro nome é: \", nomes[2])"
      ],
      "metadata": {
        "colab": {
          "base_uri": "https://localhost:8080/"
        },
        "id": "KxCPmQB6uh6w",
        "outputId": "ea095714-906e-410e-c7fd-1902d65d78d9"
      },
      "execution_count": 6,
      "outputs": [
        {
          "output_type": "stream",
          "name": "stdout",
          "text": [
            "O terceiro nome é:  Carol\n"
          ]
        }
      ]
    },
    {
      "cell_type": "code",
      "source": [
        "lista1 = [1,2,3]\n",
        "lista2 = [4,5,6]\n",
        "listaconcatenada = lista1 + lista2\n",
        "print(\"Lista 1\", lista1)\n",
        "print(\"Lista 2\", lista2)\n",
        "print(\"Lista Concatenada\", listaconcatenada)\n"
      ],
      "metadata": {
        "colab": {
          "base_uri": "https://localhost:8080/"
        },
        "id": "kckF8j-Hv7In",
        "outputId": "68019c10-83c8-4530-f503-ff8dcee9d5f0"
      },
      "execution_count": 7,
      "outputs": [
        {
          "output_type": "stream",
          "name": "stdout",
          "text": [
            "Lista 1 [1, 2, 3]\n",
            "Lista 2 [4, 5, 6]\n",
            "Lista Concatenada [1, 2, 3, 4, 5, 6]\n"
          ]
        }
      ]
    },
    {
      "cell_type": "code",
      "source": [
        "numeros = -[1,5,2,5,3,5,4,5]\n",
        "quantidade = numeros.count(5)\n",
        "print(\"O numero 5 aparece\", quantidade, \"vezes na lista\")"
      ],
      "metadata": {
        "colab": {
          "base_uri": "https://localhost:8080/"
        },
        "id": "plamMYuTxrPr",
        "outputId": "80a7a53a-ccf6-400a-b5f5-b452ffe3571d"
      },
      "execution_count": 10,
      "outputs": [
        {
          "output_type": "stream",
          "name": "stdout",
          "text": [
            "O numero 5 aparece 4 vezes na lista\n"
          ]
        }
      ]
    }
  ]
}