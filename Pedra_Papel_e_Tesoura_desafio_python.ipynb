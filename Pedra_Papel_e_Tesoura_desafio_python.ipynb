{
  "nbformat": 4,
  "nbformat_minor": 0,
  "metadata": {
    "colab": {
      "provenance": [],
      "authorship_tag": "ABX9TyPqchuLig/SVqLY7afjbh4I",
      "include_colab_link": true
    },
    "kernelspec": {
      "name": "python3",
      "display_name": "Python 3"
    },
    "language_info": {
      "name": "python"
    }
  },
  "cells": [
    {
      "cell_type": "markdown",
      "metadata": {
        "id": "view-in-github",
        "colab_type": "text"
      },
      "source": [
        "<a href=\"https://colab.research.google.com/github/0NightRunner0/Phyton/blob/main/Pedra_Papel_e_Tesoura_desafio_python.ipynb\" target=\"_parent\"><img src=\"https://colab.research.google.com/assets/colab-badge.svg\" alt=\"Open In Colab\"/></a>"
      ]
    },
    {
      "cell_type": "code",
      "execution_count": 1,
      "metadata": {
        "colab": {
          "base_uri": "https://localhost:8080/"
        },
        "id": "E6YcqhLuMimv",
        "outputId": "93866d12-a70e-480f-959e-9c54a18aa6a0"
      },
      "outputs": [
        {
          "output_type": "stream",
          "name": "stdout",
          "text": [
            "Bem-vindo ao jogo Pedra, Papel ou Tesoura!\n",
            "Digite o nome do jogador 1: sarah\n",
            "Digite o nome do jogador 2: henrique\n",
            "sarah escolha sua jogada: Pedra, Papel ou Tesoura? papel\n",
            "henrique escolha sua jogada: Pedra, Papel ou Tesoura? pedra\n",
            "sarah ganhou!\n"
          ]
        }
      ],
      "source": [
        "def determinar_vencedor(jogador1_nome, jogada1, jogador2_nome, jogada2):\n",
        "    if jogada1 == jogada2:\n",
        "        return \"Empate!\"\n",
        "    elif (jogada1 == \"pedra\" and jogada2 == \"tesoura\") or \\\n",
        "         (jogada1 == \"tesoura\" and jogada2 == \"papel\") or \\\n",
        "         (jogada1 == \"papel\" and jogada2 == \"pedra\"):\n",
        "        return f\"{jogador1_nome} ganhou!\"\n",
        "    else:\n",
        "        return f\"{jogador2_nome} ganhou!\"\n",
        "\n",
        "print(\"Bem-vindo ao jogo Pedra, Papel ou Tesoura!\")\n",
        "\n",
        "jogador1_nome = input('Digite o nome do jogador 1: ')\n",
        "jogador2_nome = input('Digite o nome do jogador 2: ')\n",
        "\n",
        "jogada1 = input(f'{jogador1_nome} escolha sua jogada: Pedra, Papel ou Tesoura? ').lower()\n",
        "jogada2 = input(f'{jogador2_nome} escolha sua jogada: Pedra, Papel ou Tesoura? ').lower()\n",
        "\n",
        "resultado = determinar_vencedor(jogador1_nome, jogada1, jogador2_nome, jogada2)\n",
        "print(resultado)"
      ]
    }
  ]
}