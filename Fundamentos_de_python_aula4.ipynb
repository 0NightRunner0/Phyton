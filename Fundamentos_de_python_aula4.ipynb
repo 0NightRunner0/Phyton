{
  "nbformat": 4,
  "nbformat_minor": 0,
  "metadata": {
    "colab": {
      "provenance": [],
      "authorship_tag": "ABX9TyPavjELmWhIMCKyxdQuYXgc",
      "include_colab_link": true
    },
    "kernelspec": {
      "name": "python3",
      "display_name": "Python 3"
    },
    "language_info": {
      "name": "python"
    }
  },
  "cells": [
    {
      "cell_type": "markdown",
      "metadata": {
        "id": "view-in-github",
        "colab_type": "text"
      },
      "source": [
        "<a href=\"https://colab.research.google.com/github/0NightRunner0/Phyton/blob/main/Fundamentos_de_python_aula4.ipynb\" target=\"_parent\"><img src=\"https://colab.research.google.com/assets/colab-badge.svg\" alt=\"Open In Colab\"/></a>"
      ]
    },
    {
      "cell_type": "code",
      "execution_count": 3,
      "metadata": {
        "id": "-ciNUOuQMnHH",
        "colab": {
          "base_uri": "https://localhost:8080/"
        },
        "outputId": "4e23adbe-3485-4d28-b1a6-a3e5df5257a4"
      },
      "outputs": [
        {
          "output_type": "stream",
          "name": "stdout",
          "text": [
            "2\n"
          ]
        }
      ],
      "source": [
        " frase = \"lingugem de python\"\n",
        " print(frase.count(\"n\"))"
      ]
    },
    {
      "cell_type": "code",
      "source": [
        "c = \"python\"\n",
        "print(c.startswith(\"Py\"))"
      ],
      "metadata": {
        "colab": {
          "base_uri": "https://localhost:8080/"
        },
        "id": "Ua61mUIob3iD",
        "outputId": "d48327db-7959-4f72-d585-e1ae04f29cb0"
      },
      "execution_count": 10,
      "outputs": [
        {
          "output_type": "stream",
          "name": "stdout",
          "text": [
            "False\n"
          ]
        }
      ]
    },
    {
      "cell_type": "code",
      "source": [
        "d = \"python\"\n",
        "print(d.endswith(\"on\"))"
      ],
      "metadata": {
        "colab": {
          "base_uri": "https://localhost:8080/"
        },
        "id": "nnIH5yUZbSr5",
        "outputId": "41c5caa2-64e9-4df7-999d-d681fb278a29"
      },
      "execution_count": 8,
      "outputs": [
        {
          "output_type": "stream",
          "name": "stdout",
          "text": [
            "True\n"
          ]
        }
      ]
    },
    {
      "cell_type": "code",
      "source": [
        "e =  \"!@#$%\"\n",
        "print(e.isalnum())"
      ],
      "metadata": {
        "colab": {
          "base_uri": "https://localhost:8080/"
        },
        "id": "sJo0znc3cLfi",
        "outputId": "d9bafb6a-43c2-47a4-b507-0235f031b82e"
      },
      "execution_count": 11,
      "outputs": [
        {
          "output_type": "stream",
          "name": "stdout",
          "text": [
            "False\n"
          ]
        }
      ]
    },
    {
      "cell_type": "code",
      "source": [
        "f = \"python\"\n",
        "print(f.isalnum())"
      ],
      "metadata": {
        "colab": {
          "base_uri": "https://localhost:8080/"
        },
        "id": "gUWhc4BHcgBi",
        "outputId": "a9843415-e299-454a-d6a6-ce74e3c2fb05"
      },
      "execution_count": 12,
      "outputs": [
        {
          "output_type": "stream",
          "name": "stdout",
          "text": [
            "True\n"
          ]
        }
      ]
    },
    {
      "cell_type": "code",
      "source": [
        "g = \"# python\"\n",
        "print(g.islower())"
      ],
      "metadata": {
        "colab": {
          "base_uri": "https://localhost:8080/"
        },
        "id": "C484q-gBc0mK",
        "outputId": "cf250c6e-b633-41b5-d6f3-c6a3150d246e"
      },
      "execution_count": 14,
      "outputs": [
        {
          "output_type": "stream",
          "name": "stdout",
          "text": [
            "True\n"
          ]
        }
      ]
    },
    {
      "cell_type": "code",
      "source": [
        "h = \"# python11\"\n",
        "print(h.isupper())"
      ],
      "metadata": {
        "colab": {
          "base_uri": "https://localhost:8080/"
        },
        "id": "IeoSRkfxdFrS",
        "outputId": "181e6261-f039-4cba-84fb-5a81d2744543"
      },
      "execution_count": 16,
      "outputs": [
        {
          "output_type": "stream",
          "name": "stdout",
          "text": [
            "False\n"
          ]
        }
      ]
    },
    {
      "cell_type": "code",
      "source": [
        "i = \"#PYTHON 3\"\n",
        "print(i.lower())"
      ],
      "metadata": {
        "colab": {
          "base_uri": "https://localhost:8080/"
        },
        "id": "hTtjl_LZdlea",
        "outputId": "bfcf8958-9e8b-4f25-aa3f-a776edf5b20a"
      },
      "execution_count": 17,
      "outputs": [
        {
          "output_type": "stream",
          "name": "stdout",
          "text": [
            "#python 3\n"
          ]
        }
      ]
    }
  ]
}