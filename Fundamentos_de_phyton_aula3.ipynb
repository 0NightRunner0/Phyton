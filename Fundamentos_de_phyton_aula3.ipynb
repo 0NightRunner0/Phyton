{
  "nbformat": 4,
  "nbformat_minor": 0,
  "metadata": {
    "colab": {
      "provenance": [],
      "authorship_tag": "ABX9TyNe88HfuJ+BXJg3Qbt7YNUv",
      "include_colab_link": true
    },
    "kernelspec": {
      "name": "python3",
      "display_name": "Python 3"
    },
    "language_info": {
      "name": "python"
    }
  },
  "cells": [
    {
      "cell_type": "markdown",
      "metadata": {
        "id": "view-in-github",
        "colab_type": "text"
      },
      "source": [
        "<a href=\"https://colab.research.google.com/github/0NightRunner0/Phyton/blob/main/Fundamentos_de_phyton_aula3.ipynb\" target=\"_parent\"><img src=\"https://colab.research.google.com/assets/colab-badge.svg\" alt=\"Open In Colab\"/></a>"
      ]
    },
    {
      "cell_type": "code",
      "execution_count": null,
      "metadata": {
        "colab": {
          "base_uri": "https://localhost:8080/"
        },
        "id": "Je3_RuvXAEzp",
        "outputId": "d9aef1b4-3160-482a-825d-7e4dee934e4d"
      },
      "outputs": [
        {
          "output_type": "stream",
          "name": "stdout",
          "text": [
            "De 0 à 10, quanto você gostpou do suco?8\n",
            "Gostei Muito\n"
          ]
        }
      ],
      "source": [
        "nota = int(input(\"De 0 à 10, quanto você gostpou do suco?\"))\n",
        "if nota <5:\n",
        "  print(\"Não Gostou\")\n",
        "elif nota <=7:\n",
        "  print(\"Pode melhorar\")\n",
        "elif nota <=9:\n",
        "  print(\"Gostei Muito\")\n",
        "else:\n",
        "  print(\"Perfeito\")"
      ]
    },
    {
      "cell_type": "code",
      "source": [
        "nome = str(input(\"Qual seu nome? \"))\n",
        "corrida = int(input(\"Digite a duração da corrida em minutos: \"))\n",
        "total = corrida * 1.20\n",
        "total2 = corrida * 1.00\n",
        "\n",
        "if corrida <= 10:\n",
        "  print(\"A corrida fica em 10$\")\n",
        "\n",
        "elif total <= 20:\n",
        "  print(f\"Olá {nome} sua corrida fica em {total}$\")\n",
        "\n",
        "else:\n",
        "  print(f\"Olá {nome} sua corrida fica em {total2}$\")"
      ],
      "metadata": {
        "colab": {
          "base_uri": "https://localhost:8080/"
        },
        "id": "pOjQ9jiHB3Nd",
        "outputId": "640bda3d-24e8-46b7-fadd-c483da2ab8c4"
      },
      "execution_count": null,
      "outputs": [
        {
          "output_type": "stream",
          "name": "stdout",
          "text": [
            "Qual seu nome? djdstj\n",
            "Digite a duração da corrida em minutos: 36\n",
            "Olá djdstj sua corrida fica em 36.0$\n"
          ]
        }
      ]
    },
    {
      "cell_type": "code",
      "source": [
        "idade = int(input(\"Digite sua idade: \"))\n",
        "estudante = str(input(\"Você é estudante? \"))\n",
        "valoringresso = 30\n",
        "valorestudante = valoringresso * 0.7\n",
        "criancaidoso = valoringresso * 0.5\n",
        "\n",
        "if idade <= 18:\n",
        "  print(f\"O valor do ingresso é de {criancaidoso}$\")\n",
        "elif idade >= 60:\n",
        "  print(f\"O valor do ingresso é de {criancaidoso}$\")\n",
        "elif estudante == \"sim\":\n",
        "  print(f\"O valor do ingresso é de {valorestudante}$\")\n",
        "else:\n",
        "  print(f\"O valor do ingresso é de {valoringresso}$\")"
      ],
      "metadata": {
        "colab": {
          "base_uri": "https://localhost:8080/"
        },
        "id": "uVgIIpC8J_Wy",
        "outputId": "a8fed630-028e-4889-c8d2-1fb2a8e2e835"
      },
      "execution_count": null,
      "outputs": [
        {
          "output_type": "stream",
          "name": "stdout",
          "text": [
            "Digite sua idade: 19\n",
            "Você é estudante? sim\n",
            "O valor do ingresso é de 21.0$\n"
          ]
        }
      ]
    },
    {
      "cell_type": "code",
      "source": [
        "pedido = str(input(\"Digite o nome do prato(pizza, sanduiche e salada): \")).lower()\n",
        "sanduiche = 14.99\n",
        "pizza = 64.99\n",
        "salada = 19.99\n",
        "\n",
        "if pedido == \"pizza\":\n",
        "  print(f\"O valor do prato é de {pizza}\")\n",
        "elif pedido == \"sanduiche\":\n",
        "  print(f\"O valor do prato é de {sanduiche}\")\n",
        "elif pedido == \"salada\":\n",
        "  print(f\"O valor do prato é de {salada}\")\n",
        "else:\n",
        "  print(\"Prato não encontrado\")"
      ],
      "metadata": {
        "colab": {
          "base_uri": "https://localhost:8080/"
        },
        "id": "EtFTJSCjQNKf",
        "outputId": "aa6fa368-c62d-4dec-b1a7-d582ee310f46"
      },
      "execution_count": null,
      "outputs": [
        {
          "output_type": "stream",
          "name": "stdout",
          "text": [
            "Digite o nome do prato(pizza, sanduiche e salada): Pizza\n",
            "O valor do prato é de 64.99\n"
          ]
        }
      ]
    },
    {
      "cell_type": "code",
      "source": [
        "cumida = str(input(\"Vamu cuzinhá oq hj meu patrão? \")).lower()\n",
        "\n",
        "bolo = 40\n",
        "arroz = 20\n",
        "lasanha = 50\n",
        "\n",
        "if cumida == \"arroz\":\n",
        "  print(f\"Vai fikáh pronto em {arroz} min chefia!😎👌\")\n",
        "elif cumida == \"bolo\":\n",
        "  print(f\"Vai fikáh pronto em {bolo} min chefia!😎👌\")\n",
        "elif cumida == \"lasanha\":\n",
        "  print(f\"Vai fikáh pronto em {lasanha} min chefia!😎👌\")\n",
        "else:\n",
        "  print(\"Não sei fazer essa merda ai não lerdão🤬🖕\")"
      ],
      "metadata": {
        "colab": {
          "base_uri": "https://localhost:8080/"
        },
        "id": "TKwKwrvZWoaZ",
        "outputId": "bcca5298-21bb-452f-be3a-2ce03b8af125"
      },
      "execution_count": null,
      "outputs": [
        {
          "output_type": "stream",
          "name": "stdout",
          "text": [
            "Vamu cuzinhá oq hj meu patrão? Lasanha\n",
            "Vai fikáh pronto em 50 min chefia!😎👌\n"
          ]
        }
      ]
    },
    {
      "cell_type": "code",
      "source": [
        "temp = float(input(\"Digite a temperatura em graus celsius: \"))\n",
        "\n",
        "if temp <= 70:\n",
        "  print(\"A maquina esta segura\")\n",
        "elif temp <= 90:\n",
        "  print(\"Alerta a temperatura esta ficando alta\")\n",
        "else:\n",
        "  print(\"Alerta! desligue o equipamento imediatamente!!\")"
      ],
      "metadata": {
        "colab": {
          "base_uri": "https://localhost:8080/"
        },
        "id": "fcB6VxC5gh5I",
        "outputId": "780b9001-8685-4852-c80d-4d2efba1d9c1"
      },
      "execution_count": null,
      "outputs": [
        {
          "output_type": "stream",
          "name": "stdout",
          "text": [
            "Digite a temperatura em graus celsius: 24.8\n",
            "A maquina esta segura\n"
          ]
        }
      ]
    },
    {
      "cell_type": "code",
      "source": [
        "from datetime import datetime\n",
        "\n",
        "temp = float(input(\"Digite a temperatura da maquina: \"))\n",
        "hora = datetime.now().strftime(\"%H:%D:%S\")\n",
        "if temp <=70:\n",
        "  status = \"Seguro\"\n",
        "elif temp <=90:\n",
        "  status = \"Alerta\"\n",
        "else:\n",
        "  status = \"Perigo! Desligar imediatamente\"\n",
        "print(f\"[{hora}] Temperatura: {temp:.1f}C Status: {status}\")"
      ],
      "metadata": {
        "colab": {
          "base_uri": "https://localhost:8080/"
        },
        "id": "UcZF-7ojnfXo",
        "outputId": "f6f2801f-5fe4-48e4-9e09-441989f823a9"
      },
      "execution_count": null,
      "outputs": [
        {
          "output_type": "stream",
          "name": "stdout",
          "text": [
            "Digite a temperatura da maquina: 100\n",
            "[14:05/31/25:23] Temperatura: 100.0C Status: Perigo! Desligar imediatamente\n"
          ]
        }
      ]
    },
    {
      "cell_type": "code",
      "source": [
        "from datetime import datetime\n",
        "\n",
        "horachegada = float(input(\"Digite a hora de sua chegada: \"))\n",
        "hora = datetime.now().strftime(\"%H,%D,%S\")\n",
        "\n",
        "if horachegada <=8:\n",
        "  status = \"Dentro do Horário\"\n",
        "\n",
        "elif horachegada <= 8.15:\n",
        "  status = \"Tolerancia\"\n",
        "\n",
        "else:\n",
        "  status = \"Atraso registrado\"\n",
        "print(f\"[{hora}] Entrada: {horachegada:.2f} {status}\")"
      ],
      "metadata": {
        "colab": {
          "base_uri": "https://localhost:8080/"
        },
        "id": "myVrXCc2p_Gn",
        "outputId": "630450c3-a770-4528-c76f-535c8e2765d1"
      },
      "execution_count": null,
      "outputs": [
        {
          "output_type": "stream",
          "name": "stdout",
          "text": [
            "Digite a hora de sua chegada: 8.51\n",
            "[14,05/31/25,24] Entrada: 8.51 Atraso registrado\n"
          ]
        }
      ]
    },
    {
      "cell_type": "code",
      "source": [
        "distancia = int(input(\"Digite a distancia em KM de sua encomenda: \"))\n",
        "\n",
        "if distancia <= 20:\n",
        "  print(f\"(Frete gratis)\")\n",
        "elif distancia <= 100:\n",
        "  print(f\"(10$ de frete)\")\n",
        "elif distancia <= 500:\n",
        "  print(f\"(15$ de frete)\")\n",
        "else:\n",
        "  print(f\"(50$ de frete)\")"
      ],
      "metadata": {
        "colab": {
          "base_uri": "https://localhost:8080/"
        },
        "id": "AhlBnpvpuBjm",
        "outputId": "bd2b62ef-f6b5-47a3-c075-ec2b586767da"
      },
      "execution_count": null,
      "outputs": [
        {
          "output_type": "stream",
          "name": "stdout",
          "text": [
            "Digite a distancia em KM de sua encomenda: 15\n",
            "(Frete gratis)\n"
          ]
        }
      ]
    }
  ]
}