{
  "nbformat": 4,
  "nbformat_minor": 0,
  "metadata": {
    "colab": {
      "provenance": [],
      "authorship_tag": "ABX9TyMztNAQ0Nuf/dcBI1FVodU1",
      "include_colab_link": true
    },
    "kernelspec": {
      "name": "python3",
      "display_name": "Python 3"
    },
    "language_info": {
      "name": "python"
    }
  },
  "cells": [
    {
      "cell_type": "markdown",
      "metadata": {
        "id": "view-in-github",
        "colab_type": "text"
      },
      "source": [
        "<a href=\"https://colab.research.google.com/github/0NightRunner0/Python/blob/main/Cardapio_Bk.ipynb\" target=\"_parent\"><img src=\"https://colab.research.google.com/assets/colab-badge.svg\" alt=\"Open In Colab\"/></a>"
      ]
    },
    {
      "cell_type": "code",
      "execution_count": 1,
      "metadata": {
        "colab": {
          "base_uri": "https://localhost:8080/"
        },
        "id": "249YTYXZP1DR",
        "outputId": "eac9662e-0449-4e3f-eebc-7b6fd4630a24"
      },
      "outputs": [
        {
          "output_type": "stream",
          "name": "stdout",
          "text": [
            "Bem vindo ao Burguer King, escolha seu combo: \n",
            "Digite a categoria do produto: 8\n",
            "Esse é o produto BK Chicken + 1 sachê de maionese temperada\n",
            "O preço do produto é R$ 12,90\n"
          ]
        }
      ],
      "source": [
        "#Desafio Burguer King - Combos\n",
        "\n",
        "print(\"Bem vindo ao Burguer King, escolha seu combo: \")\n",
        "categoria = int(input('Digite a categoria do produto: '))\n",
        "if categoria == 1:\n",
        "  print('Esse produto é o Combo BK Original')\n",
        "  print('O preço do produto é R$ 28,90')\n",
        "\n",
        "elif categoria == 2:\n",
        "  print('Esse produto é o BK Original + 10 Chicken + 1 Free Refil')\n",
        "  print('O preço do produto é R$ 35,90')\n",
        "\n",
        "elif categoria == 3:\n",
        "  print('Esse produto é o Combo BK Cheddar')\n",
        "  print('O preço do produto é R$ 26,90')\n",
        "\n",
        "elif categoria == 4:\n",
        "  print('Esse produto é o Big-King com Batata Média')\n",
        "  print('O preço do produto é R$ 26,00 ')\n",
        "\n",
        "elif categoria == 5:\n",
        "  print('Esse produto é o Combo Cheese Burguer Duplo')\n",
        "  print('O preço do produto é R$ 24,90')\n",
        "\n",
        "elif categoria == 6:\n",
        "  print('Esse produto é o Commbo BK Chicken Crispy')\n",
        "  print('O preço do produto é R$ 28,90')\n",
        "\n",
        "elif categoria == 7:\n",
        "  print('Esse produto é o Onion Rings media + 1 sache de maionese temperada')\n",
        "  print('O preço do produto é R$ 9,90')\n",
        "\n",
        "elif categoria == 8:\n",
        "  print('Esse é o produto BK Chicken + 1 sachê de maionese temperada')\n",
        "  print('O preço do produto é R$ 12,90')\n",
        "\n",
        "elif categoria == 9:\n",
        "  print('Esse produto é o Bk Mix de Nutella')\n",
        "  print('O preço do produto é R$ 13,90')\n",
        "\n",
        "else:\n",
        "  print('Categoria inválida')"
      ]
    }
  ]
}