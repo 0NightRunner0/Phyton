{
  "nbformat": 4,
  "nbformat_minor": 0,
  "metadata": {
    "colab": {
      "provenance": [],
      "authorship_tag": "ABX9TyNttIgb2jZ4OT3NFPxRPeSj",
      "include_colab_link": true
    },
    "kernelspec": {
      "name": "python3",
      "display_name": "Python 3"
    },
    "language_info": {
      "name": "python"
    }
  },
  "cells": [
    {
      "cell_type": "markdown",
      "metadata": {
        "id": "view-in-github",
        "colab_type": "text"
      },
      "source": [
        "<a href=\"https://colab.research.google.com/github/0NightRunner0/Python/blob/main/Radar.ipynb\" target=\"_parent\"><img src=\"https://colab.research.google.com/assets/colab-badge.svg\" alt=\"Open In Colab\"/></a>"
      ]
    },
    {
      "cell_type": "code",
      "execution_count": 15,
      "metadata": {
        "colab": {
          "base_uri": "https://localhost:8080/"
        },
        "id": "KBvN9V-UfEQS",
        "outputId": "1b612ed4-737a-4b45-d342-8a8ca356c472"
      },
      "outputs": [
        {
          "output_type": "stream",
          "name": "stdout",
          "text": [
            "Digite a velocidade do veiculo: 85\n",
            "Calma la amigão ta rápido de mais vai tomar uma multinha de 25 pra ficar esperto\n"
          ]
        }
      ],
      "source": [
        "velocidade = int(input(\"Digite a velocidade do veiculo: \"))\n",
        "\n",
        "\n",
        "if velocidade > 80:\n",
        "  excesso = velocidade - 80\n",
        "  multa = excesso * 5\n",
        "  print(f\"Calma la amigão ta rápido de mais vai tomar uma multinha de {multa} pra ficar esperto\")\n",
        "\n",
        "else:\n",
        "  print(\"Passou batido😎👍\")"
      ]
    }
  ]
}